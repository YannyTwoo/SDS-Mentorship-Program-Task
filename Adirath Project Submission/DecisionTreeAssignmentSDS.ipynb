{
 "cells": [
  {
   "cell_type": "code",
   "execution_count": 94,
   "id": "1faba4a1",
   "metadata": {},
   "outputs": [],
   "source": [
    "import pandas as pd\n",
    "import numpy as np\n",
    "from sklearn.model_selection import train_test_split\n",
    "\n",
    "from sklearn.tree import DecisionTreeClassifier\n",
    "\n",
    "from sklearn.metrics import accuracy_score\n",
    "from sklearn.metrics import confusion_matrix\n",
    "from sklearn.metrics import classification_report\n",
    "\n",
    "import matplotlib.pyplot as plt"
   ]
  },
  {
   "cell_type": "code",
   "execution_count": 95,
   "id": "f1b4ab51",
   "metadata": {},
   "outputs": [],
   "source": [
    "df = pd.read_csv(r\"C:\\Users\\adira\\Desktop\\Code\\SDS\\balance-scale.data\")"
   ]
  },
  {
   "cell_type": "code",
   "execution_count": 110,
   "id": "c906c5ab",
   "metadata": {
    "scrolled": true
   },
   "outputs": [
    {
     "data": {
      "text/plain": [
       "(  ClassName  LeftWeight  LeftDistance  RightWeight  RightDistance\n",
       " 0         B           1             1            1              1\n",
       " 1         R           1             1            1              2\n",
       " 2         R           1             1            1              3\n",
       " 3         R           1             1            1              4\n",
       " 4         R           1             1            1              5,\n",
       " R    288\n",
       " L    288\n",
       " B     49\n",
       " Name: ClassName, dtype: int64)"
      ]
     },
     "execution_count": 110,
     "metadata": {},
     "output_type": "execute_result"
    }
   ],
   "source": [
    "df.head() , df.ClassName.value_counts()"
   ]
  },
  {
   "cell_type": "code",
   "execution_count": 97,
   "id": "5135b719",
   "metadata": {},
   "outputs": [],
   "source": [
    "X = df[['LeftWeight' , 'LeftDistance' , 'RightWeight' , 'RightDistance']].copy()\n",
    "X = np.array(X)"
   ]
  },
  {
   "cell_type": "code",
   "execution_count": 98,
   "id": "34716f39",
   "metadata": {},
   "outputs": [],
   "source": [
    "y = df[['ClassName']]\n",
    "y = np.array(y)"
   ]
  },
  {
   "cell_type": "code",
   "execution_count": 99,
   "id": "4414ec24",
   "metadata": {},
   "outputs": [],
   "source": [
    "X_train , X_test , y_train , y_test = train_test_split(X , y , test_size = 0.2 )"
   ]
  },
  {
   "cell_type": "code",
   "execution_count": 100,
   "id": "2cb9739b",
   "metadata": {
    "scrolled": true
   },
   "outputs": [
    {
     "data": {
      "text/plain": [
       "DecisionTreeClassifier(max_depth=5, random_state=42)"
      ]
     },
     "execution_count": 100,
     "metadata": {},
     "output_type": "execute_result"
    }
   ],
   "source": [
    "clf = DecisionTreeClassifier(max_depth = 5 , random_state = 42 )\n",
    "clf.fit(X_train , y_train)"
   ]
  },
  {
   "cell_type": "code",
   "execution_count": 101,
   "id": "0c79f5bc",
   "metadata": {},
   "outputs": [],
   "source": [
    "predictions = clf.predict(X_test)"
   ]
  },
  {
   "cell_type": "code",
   "execution_count": 102,
   "id": "c70d8e0a",
   "metadata": {},
   "outputs": [],
   "source": [
    "accuracy = clf.score(X_test , y_test)"
   ]
  },
  {
   "cell_type": "code",
   "execution_count": 103,
   "id": "8e2e0906",
   "metadata": {},
   "outputs": [
    {
     "data": {
      "text/plain": [
       "0.704"
      ]
     },
     "execution_count": 103,
     "metadata": {},
     "output_type": "execute_result"
    }
   ],
   "source": [
    "accuracy"
   ]
  },
  {
   "cell_type": "code",
   "execution_count": 104,
   "id": "a3673ff5",
   "metadata": {},
   "outputs": [
    {
     "data": {
      "text/plain": [
       "array([[37,  5,  5],\n",
       "       [ 8, 51,  7],\n",
       "       [ 7,  5,  0]], dtype=int64)"
      ]
     },
     "execution_count": 104,
     "metadata": {},
     "output_type": "execute_result"
    }
   ],
   "source": [
    "confmat = confusion_matrix(y_test , predictions , labels=['L','R','B'])\n",
    "confmat"
   ]
  },
  {
   "cell_type": "code",
   "execution_count": 106,
   "id": "abf78b54",
   "metadata": {},
   "outputs": [
    {
     "name": "stdout",
     "output_type": "stream",
     "text": [
      "Classification report : \n",
      "               precision    recall  f1-score   support\n",
      "\n",
      "           L       0.71      0.79      0.75        47\n",
      "           R       0.84      0.77      0.80        66\n",
      "           B       0.00      0.00      0.00        12\n",
      "\n",
      "    accuracy                           0.70       125\n",
      "   macro avg       0.52      0.52      0.52       125\n",
      "weighted avg       0.71      0.70      0.71       125\n",
      "\n"
     ]
    }
   ],
   "source": [
    "matrix = classification_report(y_test,predictions,labels=['L','R','B'])\n",
    "print('Classification report : \\n',matrix)"
   ]
  },
  {
   "cell_type": "code",
   "execution_count": null,
   "id": "c6da5768",
   "metadata": {},
   "outputs": [],
   "source": []
  }
 ],
 "metadata": {
  "kernelspec": {
   "display_name": "Python 3",
   "language": "python",
   "name": "python3"
  },
  "language_info": {
   "codemirror_mode": {
    "name": "ipython",
    "version": 3
   },
   "file_extension": ".py",
   "mimetype": "text/x-python",
   "name": "python",
   "nbconvert_exporter": "python",
   "pygments_lexer": "ipython3",
   "version": "3.8.8"
  }
 },
 "nbformat": 4,
 "nbformat_minor": 5
}
